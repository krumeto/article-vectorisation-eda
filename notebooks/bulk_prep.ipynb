{
 "cells": [
  {
   "cell_type": "code",
   "execution_count": 21,
   "metadata": {},
   "outputs": [],
   "source": [
    "import pandas as pd\n",
    "from umap import UMAP"
   ]
  },
  {
   "cell_type": "markdown",
   "metadata": {},
   "source": [
    "# This notebooks prepares data for showcasing the (bulk)[https://github.com/koaning/bulk] project by Vincent Warmerdam\n",
    "\n",
    "Training the vectors and loading the necessary data can be found in notebook Article_Vectorization_sklearn_api.ipynb"
   ]
  },
  {
   "cell_type": "code",
   "execution_count": 22,
   "metadata": {},
   "outputs": [
    {
     "data": {
      "text/html": [
       "<div>\n",
       "<style scoped>\n",
       "    .dataframe tbody tr th:only-of-type {\n",
       "        vertical-align: middle;\n",
       "    }\n",
       "\n",
       "    .dataframe tbody tr th {\n",
       "        vertical-align: top;\n",
       "    }\n",
       "\n",
       "    .dataframe thead th {\n",
       "        text-align: right;\n",
       "    }\n",
       "</style>\n",
       "<table border=\"1\" class=\"dataframe\">\n",
       "  <thead>\n",
       "    <tr style=\"text-align: right;\">\n",
       "      <th></th>\n",
       "      <th>text</th>\n",
       "    </tr>\n",
       "  </thead>\n",
       "  <tbody>\n",
       "    <tr>\n",
       "      <th>0</th>\n",
       "      <td>If You Want To Stop Procrastinating, You Need ...</td>\n",
       "    </tr>\n",
       "    <tr>\n",
       "      <th>1</th>\n",
       "      <td>Applying Behavioral Science to Machine Learning</td>\n",
       "    </tr>\n",
       "    <tr>\n",
       "      <th>2</th>\n",
       "      <td>Image clustering using Transfer learning</td>\n",
       "    </tr>\n",
       "    <tr>\n",
       "      <th>3</th>\n",
       "      <td>The Unofficial Weekly Stratis Retrospect #60 —...</td>\n",
       "    </tr>\n",
       "    <tr>\n",
       "      <th>4</th>\n",
       "      <td>Readymade Grocery App Version 2.2.0 has Released</td>\n",
       "    </tr>\n",
       "  </tbody>\n",
       "</table>\n",
       "</div>"
      ],
      "text/plain": [
       "                                                text\n",
       "0  If You Want To Stop Procrastinating, You Need ...\n",
       "1    Applying Behavioral Science to Machine Learning\n",
       "2           Image clustering using Transfer learning\n",
       "3  The Unofficial Weekly Stratis Retrospect #60 —...\n",
       "4   Readymade Grocery App Version 2.2.0 has Released"
      ]
     },
     "execution_count": 22,
     "metadata": {},
     "output_type": "execute_result"
    }
   ],
   "source": [
    "# Bulk requires the text column to be named \"text\"\n",
    "titles = pd.read_csv('../data/train_data.csv').loc[:, ['title']].rename({\"title\":'text'}, axis = 1)\n",
    "vectors = pd.read_parquet('../data/st_vectors.parquet')\n",
    "\n",
    "titles.head()"
   ]
  },
  {
   "cell_type": "code",
   "execution_count": 5,
   "metadata": {},
   "outputs": [],
   "source": [
    "umap = UMAP(n_components=2)\n",
    "vectors_transformed = umap.fit_transform(vectors)"
   ]
  },
  {
   "cell_type": "code",
   "execution_count": 18,
   "metadata": {},
   "outputs": [
    {
     "data": {
      "text/html": [
       "<div>\n",
       "<style scoped>\n",
       "    .dataframe tbody tr th:only-of-type {\n",
       "        vertical-align: middle;\n",
       "    }\n",
       "\n",
       "    .dataframe tbody tr th {\n",
       "        vertical-align: top;\n",
       "    }\n",
       "\n",
       "    .dataframe thead th {\n",
       "        text-align: right;\n",
       "    }\n",
       "</style>\n",
       "<table border=\"1\" class=\"dataframe\">\n",
       "  <thead>\n",
       "    <tr style=\"text-align: right;\">\n",
       "      <th></th>\n",
       "      <th>text</th>\n",
       "      <th>x</th>\n",
       "      <th>y</th>\n",
       "    </tr>\n",
       "  </thead>\n",
       "  <tbody>\n",
       "    <tr>\n",
       "      <th>0</th>\n",
       "      <td>If You Want To Stop Procrastinating, You Need ...</td>\n",
       "      <td>7.692540</td>\n",
       "      <td>3.415269</td>\n",
       "    </tr>\n",
       "    <tr>\n",
       "      <th>1</th>\n",
       "      <td>Applying Behavioral Science to Machine Learning</td>\n",
       "      <td>9.701580</td>\n",
       "      <td>9.051721</td>\n",
       "    </tr>\n",
       "    <tr>\n",
       "      <th>2</th>\n",
       "      <td>Image clustering using Transfer learning</td>\n",
       "      <td>8.995864</td>\n",
       "      <td>10.540031</td>\n",
       "    </tr>\n",
       "    <tr>\n",
       "      <th>3</th>\n",
       "      <td>The Unofficial Weekly Stratis Retrospect #60 —...</td>\n",
       "      <td>13.342123</td>\n",
       "      <td>5.800735</td>\n",
       "    </tr>\n",
       "    <tr>\n",
       "      <th>4</th>\n",
       "      <td>Readymade Grocery App Version 2.2.0 has Released</td>\n",
       "      <td>11.103762</td>\n",
       "      <td>6.271256</td>\n",
       "    </tr>\n",
       "  </tbody>\n",
       "</table>\n",
       "</div>"
      ],
      "text/plain": [
       "                                                text          x          y\n",
       "0  If You Want To Stop Procrastinating, You Need ...   7.692540   3.415269\n",
       "1    Applying Behavioral Science to Machine Learning   9.701580   9.051721\n",
       "2           Image clustering using Transfer learning   8.995864  10.540031\n",
       "3  The Unofficial Weekly Stratis Retrospect #60 —...  13.342123   5.800735\n",
       "4   Readymade Grocery App Version 2.2.0 has Released  11.103762   6.271256"
      ]
     },
     "execution_count": 18,
     "metadata": {},
     "output_type": "execute_result"
    }
   ],
   "source": [
    "titles['x'] = vectors_transformed[:, 0]\n",
    "titles['y'] = vectors_transformed[:, 1]\n",
    "titles.head()"
   ]
  },
  {
   "cell_type": "code",
   "execution_count": 20,
   "metadata": {},
   "outputs": [],
   "source": [
    "titles.to_csv(\"../data/titles_and_vectors_for_bulk.csv\")"
   ]
  },
  {
   "cell_type": "markdown",
   "metadata": {},
   "source": [
    "Next, run `python -m bulk text data/titles_and_vectors_for_bulk.csv` in a terminal "
   ]
  }
 ],
 "metadata": {
  "kernelspec": {
   "display_name": "Python 3.9.13 ('av39': venv)",
   "language": "python",
   "name": "python3"
  },
  "language_info": {
   "codemirror_mode": {
    "name": "ipython",
    "version": 3
   },
   "file_extension": ".py",
   "mimetype": "text/x-python",
   "name": "python",
   "nbconvert_exporter": "python",
   "pygments_lexer": "ipython3",
   "version": "3.9.13"
  },
  "orig_nbformat": 4,
  "vscode": {
   "interpreter": {
    "hash": "b781e206bbda6f8e98db14fe579a454a301d2e5771a6829189fbe587e64a2d24"
   }
  }
 },
 "nbformat": 4,
 "nbformat_minor": 2
}
